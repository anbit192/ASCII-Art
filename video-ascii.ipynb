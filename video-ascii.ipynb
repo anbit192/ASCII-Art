{
 "cells": [
  {
   "cell_type": "code",
   "execution_count": 1,
   "metadata": {},
   "outputs": [],
   "source": [
    "import numpy as np\n",
    "import cv2\n",
    "import time\n",
    "from draw_ascii import *\n",
    "import os\n",
    "from dotenv import load_dotenv"
   ]
  },
  {
   "cell_type": "code",
   "execution_count": 2,
   "metadata": {},
   "outputs": [],
   "source": [
    "load_dotenv()\n",
    "ASCII_LEVEL=int(os.getenv(\"ASCII_LEVEL\"))\n",
    "ASCII_OUTPUT_WIDTH=int(os.getenv(\"ASCII_OUTPUT_WIDTH\"))\n",
    "ASCII_OUTPUT_HEIGHT=int(os.getenv(\"ASCII_OUTPUT_HEIGHT\"))"
   ]
  },
  {
   "cell_type": "code",
   "execution_count": 3,
   "metadata": {},
   "outputs": [
    {
     "name": "stdout",
     "output_type": "stream",
     "text": [
      "6572\n",
      "640 480\n"
     ]
    }
   ],
   "source": [
    "cap = cv2.VideoCapture(\"bad-apple.mp4\")\n",
    "# fps = cap.get(cv2.CAP_PROP_FPS)\n",
    "\n",
    "width = int(cap.get(cv2.CAP_PROP_FRAME_WIDTH))\n",
    "height = int(cap.get(cv2.CAP_PROP_FRAME_HEIGHT))\n",
    "\n",
    "total_frames = int(cap.get(cv2.CAP_PROP_FRAME_COUNT))\n",
    "fps = 60\n",
    "print(total_frames)\n",
    "delay = int(1000/fps)\n",
    "\n",
    "print(width, height)"
   ]
  },
  {
   "cell_type": "code",
   "execution_count": 4,
   "metadata": {},
   "outputs": [
    {
     "data": {
      "text/plain": [
       "[\"'\", '/', '=', 'C', 'G', '6', '#', '@']"
      ]
     },
     "execution_count": 4,
     "metadata": {},
     "output_type": "execute_result"
    }
   ],
   "source": [
    "ascii_gen = ASCII_generate(\"ARIAL.TTF\", level=ASCII_LEVEL)\n",
    "chars = ascii_gen.get_result()\n",
    "chars"
   ]
  },
  {
   "cell_type": "code",
   "execution_count": 5,
   "metadata": {},
   "outputs": [],
   "source": [
    "# chars[1] = \".\"\n",
    "# chars[0] = \".\""
   ]
  },
  {
   "cell_type": "code",
   "execution_count": 6,
   "metadata": {},
   "outputs": [],
   "source": [
    "drawer = DrawASCII(ASCII_CHARS=chars, output_size=(ASCII_OUTPUT_WIDTH, ASCII_OUTPUT_HEIGHT))"
   ]
  },
  {
   "cell_type": "markdown",
   "metadata": {},
   "source": [
    "---"
   ]
  },
  {
   "cell_type": "code",
   "execution_count": 7,
   "metadata": {},
   "outputs": [],
   "source": [
    "open(\"bad-apple.txt\", \"w\").close()\n",
    "with open(\"bad-apple.txt\", \"a\") as f:\n",
    "    while cap.isOpened():\n",
    "        ret, frame = cap.read()\n",
    "        if not ret:\n",
    "            break\n",
    "        drawer.load_img(img=frame)\n",
    "        res = drawer.map_px()\n",
    "\n",
    "        line = \"\"\n",
    "        for l in res:\n",
    "            line = \"\".join(l)+\"\\n\"\n",
    "            f.write(line)"
   ]
  }
 ],
 "metadata": {
  "kernelspec": {
   "display_name": "Python 3",
   "language": "python",
   "name": "python3"
  },
  "language_info": {
   "codemirror_mode": {
    "name": "ipython",
    "version": 3
   },
   "file_extension": ".py",
   "mimetype": "text/x-python",
   "name": "python",
   "nbconvert_exporter": "python",
   "pygments_lexer": "ipython3",
   "version": "3.11.3"
  }
 },
 "nbformat": 4,
 "nbformat_minor": 2
}
