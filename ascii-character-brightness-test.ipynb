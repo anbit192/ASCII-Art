{
 "cells": [
  {
   "cell_type": "code",
   "execution_count": 2,
   "metadata": {},
   "outputs": [],
   "source": [
    "import numpy as np\n",
    "from PIL import Image, ImageFont, ImageDraw"
   ]
  },
  {
   "cell_type": "code",
   "execution_count": 3,
   "metadata": {},
   "outputs": [],
   "source": [
    "canvas = np.zeros(shape=(40, 40)) + 255\n",
    "font = ImageFont.truetype(\"ARIAL.TTF\", size=10)\n",
    "printables = [chr(i) for i in range(32, 127)]"
   ]
  },
  {
   "cell_type": "code",
   "execution_count": 4,
   "metadata": {},
   "outputs": [],
   "source": [
    "brightnesses = np.zeros(len(printables))\n",
    "for i in range(len(printables)):\n",
    "    img = Image.fromarray(canvas)\n",
    "    draw = ImageDraw.Draw(img)\n",
    "    draw.text(xy=(5, 5), text=printables[i], font=font)\n",
    "    brightnesses[i] = np.mean(np.array(img))\n",
    "\n",
    "brightnesses_dict = dict()\n",
    "for i in range(len(brightnesses)):\n",
    "    brightnesses_dict[printables[i]] = brightnesses[i]\n",
    "brightnesses_dict = dict(sorted(brightnesses_dict.items(), key=lambda item:item[1]))\n"
   ]
  },
  {
   "cell_type": "code",
   "execution_count": 5,
   "metadata": {},
   "outputs": [
    {
     "data": {
      "text/plain": [
       "array([248.96749878, 251.76546478, 252.18218994, 252.59890175,\n",
       "       253.015625  , 253.43234825, 253.84906006, 254.58327484])"
      ]
     },
     "execution_count": 5,
     "metadata": {},
     "output_type": "execute_result"
    }
   ],
   "source": [
    "num = 8\n",
    "ratios = [i/num for i in range(num)]\n",
    "quantiles = np.quantile(np.unique(np.array(brightnesses)), ratios)\n",
    "quantiles\n"
   ]
  },
  {
   "cell_type": "code",
   "execution_count": 6,
   "metadata": {},
   "outputs": [
    {
     "data": {
      "text/plain": [
       "['@', '#', '6', 'G', 'C', '=', '/', \"'\"]"
      ]
     },
     "execution_count": 6,
     "metadata": {},
     "output_type": "execute_result"
    }
   ],
   "source": [
    "final_chars = []\n",
    "for q in quantiles:\n",
    "    final_chars.append(np.abs(list(brightnesses_dict.values()) - q).argmin())\n",
    "\n",
    "final_chars = [list(brightnesses_dict.keys())[i] for i in final_chars]\n",
    "final_chars"
   ]
  },
  {
   "cell_type": "code",
   "execution_count": null,
   "metadata": {},
   "outputs": [],
   "source": []
  }
 ],
 "metadata": {
  "kernelspec": {
   "display_name": "Python 3",
   "language": "python",
   "name": "python3"
  },
  "language_info": {
   "codemirror_mode": {
    "name": "ipython",
    "version": 3
   },
   "file_extension": ".py",
   "mimetype": "text/x-python",
   "name": "python",
   "nbconvert_exporter": "python",
   "pygments_lexer": "ipython3",
   "version": "3.11.3"
  }
 },
 "nbformat": 4,
 "nbformat_minor": 2
}
