{
 "cells": [
  {
   "cell_type": "code",
   "execution_count": 3,
   "metadata": {},
   "outputs": [],
   "source": [
    "import numpy as np\n",
    "import os\n",
    "# import matplotlib.pyplot as plt\n",
    "import cv2\n",
    "import time"
   ]
  },
  {
   "cell_type": "code",
   "execution_count": 4,
   "metadata": {},
   "outputs": [],
   "source": [
    "ASCII_CHARS = ['@', '#', '6', 'G', 'C', '=', '/', \"'\"][::-1]\n",
    "ALPHA = 1.1\n",
    "BETA = -25"
   ]
  },
  {
   "cell_type": "code",
   "execution_count": 5,
   "metadata": {},
   "outputs": [],
   "source": [
    "im = cv2.imread(\"bocchit.jpg\")\n",
    "# im = cv2.rotate(im, cv2.ROTATE_90_COUNTERCLOCKWISE)\n",
    "im = cv2.resize(im, (720, 1080))\n",
    "im = cv2.cvtColor(im, cv2.COLOR_BGR2GRAY)\n",
    "# im = ALPHA*im + BETA\n",
    "im = cv2.convertScaleAbs(im, alpha=ALPHA, beta=BETA)"
   ]
  },
  {
   "cell_type": "code",
   "execution_count": 10,
   "metadata": {},
   "outputs": [
    {
     "data": {
      "text/plain": [
       "array([[\"'\", \"'\", \"'\", ..., '=', \"'\", \"'\"],\n",
       "       [\"'\", \"'\", \"'\", ..., \"'\", \"'\", '/'],\n",
       "       [\"'\", \"'\", \"'\", ..., \"'\", '/', '/'],\n",
       "       ...,\n",
       "       [\"'\", \"'\", \"'\", ..., 'G', 'G', 'G'],\n",
       "       [\"'\", \"'\", \"'\", ..., 'G', 'G', 'G'],\n",
       "       [\"'\", \"'\", \"'\", ..., 'G', 'G', 'G']], dtype='<U1')"
      ]
     },
     "execution_count": 10,
     "metadata": {},
     "output_type": "execute_result"
    }
   ],
   "source": [
    "def map_px(px_values):\n",
    "    ratio = 255/(len(ASCII_CHARS) - 1)\n",
    "    converted = np.round(px_values/ratio).astype(int)\n",
    "    return  np.array(ASCII_CHARS)[converted]\n",
    "\n",
    "res = map_px(im)\n",
    "\n",
    "res"
   ]
  },
  {
   "cell_type": "code",
   "execution_count": 7,
   "metadata": {},
   "outputs": [],
   "source": [
    "with open(\"result.txt\", \"w\") as f:\n",
    "    line = \"\"\n",
    "    for l in res:\n",
    "        line = \"\".join(l)+\"\\n\"\n",
    "        f.write(line)"
   ]
  },
  {
   "cell_type": "code",
   "execution_count": 8,
   "metadata": {},
   "outputs": [],
   "source": [
    "cv2.imshow(\"buoi\",im)\n",
    "\n",
    "cv2.waitKey(0)\n",
    "\n",
    "# closing all open windows\n",
    "cv2.destroyAllWindows()"
   ]
  },
  {
   "cell_type": "code",
   "execution_count": 11,
   "metadata": {},
   "outputs": [
    {
     "name": "stdout",
     "output_type": "stream",
     "text": [
      "9.12 ms ± 80.4 µs per loop (mean ± std. dev. of 7 runs, 100 loops each)\n"
     ]
    }
   ],
   "source": [
    "# start = time.time()\n",
    "%timeit map_px(im)\n",
    "# end = time.time()\n",
    "\n",
    "# end-start"
   ]
  },
  {
   "cell_type": "code",
   "execution_count": null,
   "metadata": {},
   "outputs": [],
   "source": []
  }
 ],
 "metadata": {
  "kernelspec": {
   "display_name": "Python 3",
   "language": "python",
   "name": "python3"
  },
  "language_info": {
   "codemirror_mode": {
    "name": "ipython",
    "version": 3
   },
   "file_extension": ".py",
   "mimetype": "text/x-python",
   "name": "python",
   "nbconvert_exporter": "python",
   "pygments_lexer": "ipython3",
   "version": "3.11.3"
  }
 },
 "nbformat": 4,
 "nbformat_minor": 2
}
