{
 "cells": [
  {
   "cell_type": "code",
   "execution_count": 2,
   "metadata": {},
   "outputs": [],
   "source": [
    "import numpy as np\n",
    "import cv2"
   ]
  },
  {
   "cell_type": "markdown",
   "metadata": {},
   "source": [
    "- Độ sáng của các chữ cái sắp xếp từ tối nhất đến sáng nhất </br>\n",
    "'@' = 255\n",
    "'.' = 0"
   ]
  },
  {
   "cell_type": "code",
   "execution_count": 40,
   "metadata": {},
   "outputs": [],
   "source": [
    "ASCII_CHARS = ['@', '#', '6', 'G', 'C', '=', '/', \"'\"][::-1]\n",
    "ALPHA = 1.1\n",
    "BETA = -25"
   ]
  },
  {
   "cell_type": "code",
   "execution_count": 52,
   "metadata": {},
   "outputs": [],
   "source": [
    "# im = cv2.imread(\"test.jfif\")\n",
    "cap = cv2.VideoCapture(\"bad-apple.mp4\")\n",
    "# cap.set(1, 124)\n",
    "ret, im = cap.read()\n",
    "# im = cv2.rotate(im, cv2.ROTATE_90_COUNTERCLOCKWISE)\n",
    "im = cv2.resize(im, (192, 58))\n",
    "im = cv2.cvtColor(im, cv2.COLOR_BGR2GRAY)\n",
    "# im = cv2.convertScaleAbs(im, alpha=ALPHA, beta=BETA)"
   ]
  },
  {
   "cell_type": "code",
   "execution_count": 53,
   "metadata": {},
   "outputs": [
    {
     "data": {
      "text/plain": [
       "array([0], dtype=uint8)"
      ]
     },
     "execution_count": 53,
     "metadata": {},
     "output_type": "execute_result"
    }
   ],
   "source": [
    "np.unique(im) "
   ]
  },
  {
   "cell_type": "markdown",
   "metadata": {},
   "source": [
    "# Input, output\n",
    "- input: frame video / ảnh\n",
    "- output: ASCII art convert được từ frame video"
   ]
  },
  {
   "cell_type": "markdown",
   "metadata": {},
   "source": [
    "# Code tối ưu nma kq hiển thị ko đẹp bằng ko tối ưu"
   ]
  },
  {
   "cell_type": "code",
   "execution_count": 54,
   "metadata": {},
   "outputs": [],
   "source": [
    "def map_px(px_values):\n",
    "    ratio = 255/(len(ASCII_CHARS))\n",
    "    converted = (px_values/ratio).astype(int)\n",
    "    converted = np.clip(converted, 0, len(ASCII_CHARS) - 1)\n",
    "    return  np.array(ASCII_CHARS)[converted]\n",
    "\n",
    "res1 = map_px(im)\n",
    "\n",
    "with open(\"result.txt\", \"w\") as f:\n",
    "    line = \"\"\n",
    "    for l in res1:\n",
    "        line = \"\".join(l)+\"\\n\"\n",
    "        f.write(line)"
   ]
  },
  {
   "cell_type": "markdown",
   "metadata": {},
   "source": [
    "# Code 2 vòng for nma kq hiển thị đẹp hơn"
   ]
  },
  {
   "cell_type": "code",
   "execution_count": 28,
   "metadata": {},
   "outputs": [],
   "source": [
    "def get_ascii_char(px_value):\n",
    "    ratio = 255/len(ASCII_CHARS)\n",
    "    indx =int(px_value/ratio)\n",
    "    indx = min(indx, len(ASCII_CHARS) - 1)\n",
    "    return  ASCII_CHARS[indx]\n",
    "\n",
    "def map_px(px_values):\n",
    "    res = np.empty(shape=px_values.shape, dtype=str)\n",
    "    for i in range(px_values.shape[0]):\n",
    "        for j in range(px_values.shape[1]):\n",
    "            val = px_values[i, j]\n",
    "            res[i, j] = get_ascii_char(val)\n",
    "    return res\n",
    "\n",
    "res2 = map_px(im)\n",
    "\n",
    "with open(\"result.txt\", \"w\") as f:\n",
    "    line = \"\"\n",
    "    for l in res2:\n",
    "        line = \"\".join(l)+\"\\n\"\n",
    "        f.write(line)"
   ]
  },
  {
   "cell_type": "code",
   "execution_count": 55,
   "metadata": {},
   "outputs": [
    {
     "data": {
      "text/plain": [
       "array([[\"'\", \"'\", \"'\", ..., \"'\", \"'\", \"'\"],\n",
       "       [\"'\", \"'\", \"'\", ..., \"'\", \"'\", \"'\"],\n",
       "       [\"'\", \"'\", \"'\", ..., \"'\", \"'\", \"'\"],\n",
       "       ...,\n",
       "       [\"'\", \"'\", \"'\", ..., \"'\", \"'\", \"'\"],\n",
       "       [\"'\", \"'\", \"'\", ..., \"'\", \"'\", \"'\"],\n",
       "       [\"'\", \"'\", \"'\", ..., \"'\", \"'\", \"'\"]], dtype='<U1')"
      ]
     },
     "execution_count": 55,
     "metadata": {},
     "output_type": "execute_result"
    }
   ],
   "source": [
    "res1"
   ]
  },
  {
   "cell_type": "code",
   "execution_count": 49,
   "metadata": {},
   "outputs": [
    {
     "data": {
      "text/plain": [
       "array([1, 2])"
      ]
     },
     "execution_count": 49,
     "metadata": {},
     "output_type": "execute_result"
    }
   ],
   "source": [
    "np.array([1.92, 2.06]).astype(int)"
   ]
  }
 ],
 "metadata": {
  "kernelspec": {
   "display_name": "Python 3",
   "language": "python",
   "name": "python3"
  },
  "language_info": {
   "codemirror_mode": {
    "name": "ipython",
    "version": 3
   },
   "file_extension": ".py",
   "mimetype": "text/x-python",
   "name": "python",
   "nbconvert_exporter": "python",
   "pygments_lexer": "ipython3",
   "version": "3.11.3"
  }
 },
 "nbformat": 4,
 "nbformat_minor": 2
}
